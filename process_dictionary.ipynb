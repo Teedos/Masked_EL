{
 "cells": [
  {
   "cell_type": "code",
   "execution_count": 1,
   "metadata": {},
   "outputs": [],
   "source": [
    "import json\n",
    "import pickle\n"
   ]
  },
  {
   "cell_type": "code",
   "execution_count": 27,
   "metadata": {},
   "outputs": [],
   "source": [
    "with open('/share/project/biomed/hcd/UMLS/processed_data/mesh2cui.json','r') as f:\n",
    "    mesh2cui = json.load(f)\n",
    "\n",
    "with open('/share/project/biomed/hcd/Masked_EL/data/bc5cdr-c_v1/entity_documents.json') as f:\n",
    "    entities = set()\n",
    "    count = 0\n",
    "    not_covered = {}\n",
    "    #cui_entities = set()\n",
    "    for line in f:\n",
    "        item = json.loads(line.strip())\n",
    "        entities.add(item['mention_id'])\n",
    "        if item['mention_id'] in mesh2cui:\n",
    "            count+=1\n",
    "        else:\n",
    "            mesh = item['mention_id'] \n",
    "            if mesh not in not_covered:\n",
    "                not_covered[mesh] = []\n",
    "                not_covered[mesh].append(item['mention'])\n",
    "            else:\n",
    "                not_covered[mesh].append(item['mention'])\n"
   ]
  },
  {
   "cell_type": "code",
   "execution_count": 28,
   "metadata": {},
   "outputs": [
    {
     "name": "stdout",
     "output_type": "stream",
     "text": [
      "86\n"
     ]
    }
   ],
   "source": [
    "print(len(not_covered))"
   ]
  },
  {
   "cell_type": "code",
   "execution_count": 29,
   "metadata": {},
   "outputs": [
    {
     "name": "stdout",
     "output_type": "stream",
     "text": [
      "{'C055162': ['clopidogrel'], 'C400082': ['Bortezomib'], 'C467567': ['lenalidomide'], 'C467567|D003907': ['RD'], 'C107135': ['everolimus'], 'C418563': ['tenofovir disoproxil fumarate'], 'C096918': ['tenofovir'], 'C098010': ['Linezolid'], 'C476513': ['levobupivacaine'], 'D000431|D009538': ['AN'], 'D002188|D000431|D009538': ['CAN'], '-1': ['bevacizumab'], 'C051890': ['irinotecan'], 'C086816': ['desvenlafaxine'], 'C035133': ['mirtazapine'], 'C065180': ['Fluvastatin'], 'C069541': ['quetiapine'], 'C049864|C035054|C442759': ['Re, Rg1, and Rb1 ginsenosides'], 'C035054|C442759': ['Rg1 and Rb1 ginsenosides'], 'C041359': ['terbinafine'], 'C067431': ['letrozole'], 'C061870': ['rocuronium'], 'C049430': ['mivacurium'], 'C039726': ['artesunate'], 'C034930': ['piperazine'], 'C026098': ['Levetiracetam'], 'C000873': ['methylprednisolone acetate'], 'D019803|D005978': ['oxidized and reduced glutathione'], 'D000319|D018727': ['beta adrenergic and muscarinic receptors blockade'], 'C019248': ['pamidronate'], 'C065757': ['Meloxicam'], 'C118667': ['dronedarone'], 'C076029': ['olanzapine'], 'C043211': ['Carvedilol'], 'C010845': ['aluminum chloride'], 'C030852': ['Vinorelbine'], 'C105934': ['celecoxib'], 'C012052': ['amisulpride'], 'C036006': ['oxcarbazepine'], 'C081489': ['valsartan'], 'C085143': ['Piperacillin/tazobactam'], 'C037663': ['ropivacaine'], 'C071741': ['remifentanil'], 'C064276': ['pantoprazole'], 'C542870': ['botox'], 'C476756': ['MitoQ'], 'C043265': ['tazobactam'], 'C047781': ['Lamotrigine'], 'C102006': ['citrate'], 'C045645': ['cilostazol'], 'C422649': ['etoricoxib'], 'C059262': ['cidofovir'], 'C110904': ['capecitabine'], 'D015230|D015232|D015237': ['prostaglandin D2, E2, or F2 alpha'], 'C471405': ['Sorafenib'], 'C052342': ['Topiramate'], 'C047047': ['cabergoline'], 'D006514|D006513': ['hepatitis B surface antigen and e antigen'], 'C076946': ['E-2020'], 'C099041': ['tolterodine'], 'C047426': ['venlafaxine'], 'C090450': ['anastrozole'], 'C009250': ['sevoflurane'], 'C022189': ['zonisamide'], 'C065179': ['Atorvastatin'], 'C063008': ['mycophenolate mofetil'], 'C084178': ['telmisartan'], 'C005435': ['edaravone'], 'C044650': ['imipenem/cilastatin'], 'D014527|D012492': ['uric acid salts'], 'C040029': ['gabapentin'], 'C032302': ['rilmenidine'], 'C094645': ['aripiprazole'], 'C067411|C072959': ['HCFCs 123 and 124'], 'C032171': ['p-coumaric acid'], 'C048833': ['modafinil'], 'C492458': ['Simvastatin-ezetimibe'], 'C108606': ['ezetimibe'], 'C067311': ['docetaxel'], 'C014347': ['[3H]-5-azadeoxycytidine'], 'C413408': ['atazanavir'], 'C422923': ['rosuvastatin'], 'C476217': ['cinacalcet HCl'], 'C081309': ['Irbesartan'], 'C008281': ['s-limonene'], 'C473478': ['sunitinib']}\n"
     ]
    }
   ],
   "source": [
    "print(not_covered)"
   ]
  },
  {
   "cell_type": "code",
   "execution_count": 21,
   "metadata": {},
   "outputs": [
    {
     "name": "stdout",
     "output_type": "stream",
     "text": [
      "407600\n"
     ]
    }
   ],
   "source": [
    "with open('/share/project/biomed/hcd/BioSyn/datasets/bc5cdr-chemical/test_dictionary.txt','r') as f:       \n",
    "    ids = []\n",
    "    names = []\n",
    "    test_set = set()\n",
    "    for line in f: \n",
    "        line = line.strip().split('||') \n",
    "        ids.append(line[0])\n",
    "        test_set.add(line[0])\n",
    "        names.append(line[1])\n",
    "print(len(ids))"
   ]
  },
  {
   "cell_type": "code",
   "execution_count": 22,
   "metadata": {},
   "outputs": [
    {
     "name": "stdout",
     "output_type": "stream",
     "text": [
      "C030985\n",
      "407601 407601\n"
     ]
    }
   ],
   "source": [
    "with open('/share/project/biomed/hcd/BioSyn/datasets/bc5cdr-chemical/train_dictionary.txt','r') as f:       \n",
    "    coverage = 0\n",
    "    not_in = None\n",
    "    for line in f: \n",
    "        line = line.strip().split('||') \n",
    "        if line[0] not in test_set:\n",
    "            not_in = line[0]\n",
    "            coverage +=1\n",
    "        if line[0] == not_in:\n",
    "            ids.append(not_in)\n",
    "            print(not_in)\n",
    "            names.append(line[1])\n",
    "            \n",
    "print(len(ids),len(names))"
   ]
  },
  {
   "cell_type": "code",
   "execution_count": 30,
   "metadata": {},
   "outputs": [
    {
     "name": "stdout",
     "output_type": "stream",
     "text": [
      "407682 407682\n"
     ]
    }
   ],
   "source": [
    "for k,v in not_covered.items():\n",
    "    if k not in test_set:\n",
    "        for name in v:\n",
    "            ids.append(k)\n",
    "            names.append(name)\n",
    "print(len(ids),len(names))\n",
    "\n",
    "with open('./data/bc5cdr-c_v1/processed/dictionary.txt','w') as f:\n",
    "    for msh, name in zip(ids, names):\n",
    "        f.write(msh + '||' + name + '\\n')\n",
    "    "
   ]
  }
 ],
 "metadata": {
  "kernelspec": {
   "display_name": "zeshel",
   "language": "python",
   "name": "python3"
  },
  "language_info": {
   "codemirror_mode": {
    "name": "ipython",
    "version": 3
   },
   "file_extension": ".py",
   "mimetype": "text/x-python",
   "name": "python",
   "nbconvert_exporter": "python",
   "pygments_lexer": "ipython3",
   "version": "3.8.16"
  },
  "orig_nbformat": 4
 },
 "nbformat": 4,
 "nbformat_minor": 2
}
